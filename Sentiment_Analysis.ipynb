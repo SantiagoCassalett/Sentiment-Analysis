{
 "cells": [
  {
   "cell_type": "code",
   "execution_count": 63,
   "metadata": {},
   "outputs": [],
   "source": [
    "#Sentiment analysis using Stanford's Amazon Fine Foods (> 5 million values) reviews and Dask\n",
    "# https://snap.stanford.edu/data/web-FineFoods.html\n",
    "\n",
    "# Main Question:\n",
    "# Can we classify the Amazon Reviews as positive or negative based on the review text? \n",
    "\n",
    "#The analysis is broken into several stages:\n",
    "# 1) Data cleaning and pre-processing\n",
    "# 2) Natural Language Processing (Tokenization) and Binary Vectorization\n",
    "# 3) Modelling (Logistic Regression, Bagged Decision Trees, Random Forests)\n",
    "# 4) Discussion\n",
    "\n",
    "# Overall - Random Forest classification was able to achieve an almost 90% classification score\n",
    "# using the top-100 tokens from the review texts"
   ]
  },
  {
   "cell_type": "code",
   "execution_count": null,
   "metadata": {},
   "outputs": [],
   "source": [
    "################################\n",
    "######## DATA IMPORTING ########\n",
    "################################"
   ]
  },
  {
   "cell_type": "code",
   "execution_count": null,
   "metadata": {},
   "outputs": [],
   "source": [
    "#Data was encoded uses cp1252 and not the default UTF-8\n",
    "raw_data = bag.read_text('finefoods.txt', encoding = 'cp1252')\n"
   ]
  },
  {
   "cell_type": "code",
   "execution_count": 12,
   "metadata": {},
   "outputs": [],
   "source": [
    "##################################################\n",
    "########## DATA CLEANING/PRE-PROCESSING ##########\n",
    "##################################################"
   ]
  },
  {
   "cell_type": "code",
   "execution_count": null,
   "metadata": {},
   "outputs": [],
   "source": [
    "#Now need to find a way to add structure to the data and to \n",
    "# differentiate the different reviews - here we can use the '\\n\\n' as the delimiter.\n",
    "\n",
    "# We then parse the datafile, looking for the delimiter, but without reading the whole file into memory.\n",
    "# We will use the file iterator to look at small chunks with a set buffer size\n",
    "\n",
    "from dask.delayed import delayed\n",
    "\n",
    "def get_next_part(file, start_index, span_index = 0, blocksize = 1000):\n",
    "    file.seek(start_index)\n",
    "    buffer = file.read(blocksize + span_index).decode('cp1252') # decodes bytes to string\n",
    "    delimiter_position = buffer.find('\\n\\n')\n",
    "    if delimiter_position == -1:\n",
    "        return get_next_part(file, start_index, span_index + blocksize)\n",
    "    else:\n",
    "        file.seek(start_index)\n",
    "        return start_index, delimiter_position"
   ]
  },
  {
   "cell_type": "code",
   "execution_count": 3,
   "metadata": {},
   "outputs": [],
   "source": [
    "# Here we read through the file and use get_next_part to find each review\n",
    "\n",
    "#Output is a list of tuples - number of bytes to read after the starting byte\n",
    "\n",
    "with open('finefoods.txt', 'rb') as file_handle:\n",
    "    size = file_handle.seek(0,2) - 1 # size of the file\n",
    "    more_data = True\n",
    "    output = []\n",
    "    current_position = next_position = 0\n",
    "    while more_data:\n",
    "        if current_position >= size:\n",
    "            more_data = False\n",
    "        else:\n",
    "            current_position, next_position = get_next_part(file_handle, current_position, 0)\n",
    "            output.append((current_position, next_position)) # next position is the delimiter_position\n",
    "            current_position = current_position + next_position + 2 #delimiter is 2 bytes"
   ]
  },
  {
   "cell_type": "code",
   "execution_count": 4,
   "metadata": {},
   "outputs": [],
   "source": [
    "# Now need to take the review address (start byte and length of bytes) and match them to the reviews\n",
    "# Will use Dask bags to divide up the reviews to multiple workers\n",
    "# Since reviews are stored as JSON, dictionary objects for each review will be created \n",
    "\n",
    "def get_item(filename, start_index, delimiter_position, encoding = 'cp1252'):\n",
    "    with open(filename, 'rb') as file_handle:\n",
    "        file_handle.seek(start_index)\n",
    "        text = file_handle.read(delimiter_position).decode(encoding)\n",
    "        elements = text.strip().split('\\n')\n",
    "        key_value_pairs = [(element.split(': ')[0], element.split(': ')[1])\n",
    "                          if len(element.split(': ')) > 1\n",
    "                          else ('unknown', element)\n",
    "                          for element in elements]\n",
    "        return dict(key_value_pairs)\n",
    "\n",
    "\n",
    "# Combines the output addresses with the get_item function to access the reviews\n",
    "reviews = bag.from_sequence(output).map(lambda x: get_item('finefoods.txt', x[0], x[1]))"
   ]
  },
  {
   "cell_type": "code",
   "execution_count": 5,
   "metadata": {},
   "outputs": [],
   "source": [
    "# The last step preprocessing step before binary vectorization is to tag the\n",
    "# reviews as being either positive or negative based on review scores\n",
    "\n",
    "def tag_positive_negative_by_score(element):\n",
    "    if float(element['review/score']) > 3:\n",
    "        element['review/sentiment'] = 'positive'\n",
    "    else:\n",
    "        element['review/sentiment'] = 'negative'\n",
    "    return element\n",
    "\n",
    "tagged_reviews = reviews.map(tag_positive_negative_by_score)\n"
   ]
  },
  {
   "cell_type": "code",
   "execution_count": 13,
   "metadata": {},
   "outputs": [],
   "source": [
    "#################################################################\n",
    "############### IMPLEMENTING BINARY VECTORIZATION ###############\n",
    "#################################################################"
   ]
  },
  {
   "cell_type": "code",
   "execution_count": null,
   "metadata": {},
   "outputs": [],
   "source": [
    "#Binary vectorization - presence or absence of words (0 or 1)\n",
    "# First need to apply tooks from the NLTK for tokenization and removing stopwords\n",
    "\n",
    "import nltk\n",
    "from nltk.corpus import stopwords\n",
    "from nltk.tokenize import RegexpTokenizer\n",
    "from functools import partial\n",
    "\n",
    "tokenizer = RegexpTokenizer(r'\\w+') #only words\n",
    "\n",
    "def extract_reviews(element): # isolate review text and make sure it is lower case\n",
    "    element['review/tokens'] = element['review/text'].lower()\n",
    "    return element\n",
    "\n",
    "def tokenize_reviews(element): #creates tokens from text\n",
    "    element['review/tokens'] = tokenizer.tokenize(element['review/tokens'])\n",
    "    return element\n",
    "\n",
    "def filter_stopword(word, stopwords): # filter to check for stopwords\n",
    "    return word not in stopwords\n",
    "\n",
    "def filter_stopwords(element, stopwords): #drops stopwords \n",
    "    element['review/tokens'] = list(filter(partial(filter_stopword,\n",
    "                                                 stopwords = stopwords), element['review/tokens']))\n",
    "    return element\n",
    "\n",
    "stopword_set = set(stopwords.words('english'))\n",
    "more_stopwords = {'br', 'amazon', 'com', 'http', 'www', 'href', 'gp'} # adds extra stop words\n",
    "all_stopwords = stopword_set.union(more_stopwords)\n",
    "\n",
    "review_extracted_text = tagged_reviews.map(extract_reviews)\n",
    "\n",
    "review_tokens = review_extracted_text.map(tokenize_reviews)\n",
    "review_text_clean = review_tokens.map(partial(filter_stopwords, stopwords = all_stopwords))\n"
   ]
  },
  {
   "cell_type": "code",
   "execution_count": 8,
   "metadata": {},
   "outputs": [
    {
     "data": {
      "text/plain": [
       "114290"
      ]
     },
     "execution_count": 8,
     "metadata": {},
     "output_type": "execute_result"
    }
   ],
   "source": [
    "#Counting the number of tokens\n",
    "def extract_tokens(element):\n",
    "    return element['review/tokens']\n",
    "\n",
    "extracted_tokens = review_text_clean.map(extract_tokens)\n",
    "\n",
    "unique_tokens = extracted_tokens.flatten().distinct()\n",
    "\n",
    "number_of_tokens = unique_tokens.count().compute()\n",
    "\n",
    "number_of_tokens\n",
    "\n",
    "#We have 114290 unique words"
   ]
  },
  {
   "cell_type": "code",
   "execution_count": 9,
   "metadata": {},
   "outputs": [
    {
     "name": "stdout",
     "output_type": "stream",
     "text": [
      "[########################################] | 100% Completed |  1min 21.6s\n"
     ]
    }
   ],
   "source": [
    "from dask.diagnostics import ProgressBar\n",
    "\n",
    "#Will use the top 100 words for the binary vectorization - models could be improved with more\n",
    "# but would take substantial computing time\n",
    "\n",
    "def count(accumulator, element):\n",
    "    return accumulator + 1 #counts the instances of each word\n",
    "\n",
    "def combine(total_1, total_2):\n",
    "    return total_1 + total_2 # combines the same word across partitions\n",
    "\n",
    "with ProgressBar():\n",
    "    token_counts = extracted_tokens.flatten().foldby(lambda x: x, count, 0, combine, 0).compute()\n",
    "    top_tokens = sorted(token_counts, key = lambda x: x[1], reverse = True)\n",
    "    top_100_tokens = list(map(lambda x: x[0], top_tokens[:100]))"
   ]
  },
  {
   "cell_type": "code",
   "execution_count": 10,
   "metadata": {},
   "outputs": [],
   "source": [
    "#Now search through the reviews to see if they contain any of the tokens\n",
    "# by applying binary vectorization\n",
    "\n",
    "import numpy as np\n",
    "\n",
    "def vectorize_tokens(element):\n",
    "    vectorized_tokens = np.where(np.isin(top_100_tokens, element['review/tokens']),\n",
    "                                1, 0)\n",
    "    element['review/token_vector'] = vectorized_tokens\n",
    "    return element\n",
    "\n",
    "def prep_model_data(element):\n",
    "    return {'target': 1 if element['review/sentiment'] == 'positive' else 0,\n",
    "           'features': element['review/token_vector']}\n",
    "\n",
    "model_data = review_text_clean.map(vectorize_tokens).map(prep_model_data)\n"
   ]
  },
  {
   "cell_type": "code",
   "execution_count": null,
   "metadata": {},
   "outputs": [],
   "source": [
    "#Now need to take the bag and transform it into an array that can be used by ML\n",
    "\n",
    "from dask import array as dask_array\n",
    "\n",
    "def stacker(partition):\n",
    "    return dask_array.concatenate([element for element in partition])\n",
    "\n",
    "with ProgressBar():\n",
    "    feature_arrays = model_data.pluck('features').map(lambda x: dask_array.from_array(x, 1000).reshape(\n",
    "    1, -1)).reduction(perpartition = stacker, aggregate = stacker)\n",
    "    feature_array = feature_arrays.compute()\n",
    "    "
   ]
  },
  {
   "cell_type": "code",
   "execution_count": null,
   "metadata": {},
   "outputs": [],
   "source": [
    "# Now we want to save all of the above data manipulation and transformation\n",
    "# as chunks in .zarr files \n",
    "\n",
    "with ProgressBar():\n",
    "    #This saves the array\n",
    "    feature_array.rechunk(5000).to_zarr('sentiment_feature_array.zarr')\n",
    "    \n",
    "    #Calls back the feature array\n",
    "    feature_array = dask_array.from_zarr('sentiment_feature_array.zarr')\n",
    "    \n",
    "with ProgressBar():\n",
    "    target_arrays = model_data.pluck('target').map(lambda x: dask_array.from_array(x, 1000).reshape(\n",
    "    1, -1)).reduction(perpartition = stacker, aggregate = stacker)\n",
    "    \n",
    "    #Saves the target array\n",
    "    target_arrays.compute().rechunk(5000).to_zarr('sentiment_target_array.zarr')\n",
    "    \n",
    "    #Calls back the target array\n",
    "    target_array = dask_array.from_zarr('sentiment_target_array.zarr')"
   ]
  },
  {
   "cell_type": "code",
   "execution_count": 4,
   "metadata": {},
   "outputs": [],
   "source": [
    "################################################\n",
    "############## RUNNING THE MODELS ##############\n",
    "################################################"
   ]
  },
  {
   "cell_type": "code",
   "execution_count": null,
   "metadata": {},
   "outputs": [],
   "source": [
    "# If starting notebook after binary vectorization - can load files here\n",
    "\n",
    "from dask import array as dask_array\n",
    "\n",
    "feature_array = dask_array.from_zarr('sentiment_feature_array.zarr')\n",
    "target_array = dask_array.from_zarr('sentiment_target_array.zarr')"
   ]
  },
  {
   "cell_type": "code",
   "execution_count": 5,
   "metadata": {},
   "outputs": [],
   "source": [
    "#First step is dividing the dataset in to training and testing sets\n",
    "# Train_test_split defaults to splitting 80% training and 20% testing\n",
    "\n",
    "from dask_ml.model_selection import train_test_split\n",
    "\n",
    "X = feature_array\n",
    "y = target_array.flatten()\n",
    "\n",
    "X_train, X_test, y_train, y_test = train_test_split(X, y, random_state = 42)\n"
   ]
  },
  {
   "cell_type": "code",
   "execution_count": 67,
   "metadata": {},
   "outputs": [],
   "source": [
    "###############################################\n",
    "###### First Model - Logistic Regression ######\n",
    "###############################################"
   ]
  },
  {
   "cell_type": "code",
   "execution_count": null,
   "metadata": {},
   "outputs": [],
   "source": [
    "#First we run a basic logic regression model with default parameters\n",
    "# and also use StandardScaler to scale the inputs\n",
    "# The most efficent way to do both is by using a pipeline\n",
    "\n",
    "from sklearn.linear_model import LogisticRegression\n",
    "from sklearn.preprocessing import StandardScaler\n",
    "from sklearn.pipeline import make_pipeline\n",
    "\n",
    "clf = make_pipeline(StandardScaler(), LogisticRegression())\n",
    "\n",
    "\n",
    "clf_fit = clf.fit(X_train, y_train) "
   ]
  },
  {
   "cell_type": "code",
   "execution_count": 47,
   "metadata": {},
   "outputs": [
    {
     "name": "stderr",
     "output_type": "stream",
     "text": [
      "/Users/santiagocassalett/anaconda3/envs/py37/lib/python3.7/site-packages/dask/array/core.py:1359: FutureWarning: The `numpy.may_share_memory` function is not implemented by Dask array. You may want to use the da.map_blocks function or something similar to silence this warning. Your code may stop working in a future release.\n",
      "  FutureWarning,\n"
     ]
    },
    {
     "data": {
      "text/plain": [
       "0.7957991767230764"
      ]
     },
     "execution_count": 47,
     "metadata": {},
     "output_type": "execute_result"
    }
   ],
   "source": [
    "# Examining the test set score - we find that the basic logistic regression model\n",
    "# results in an 80% correct classification score for the reviews\n",
    "\n",
    "clf_fit.score(X_test, y_test)\n",
    "\n",
    "#This will serve as the baseline for the next set of models that we run to try and improve this score."
   ]
  },
  {
   "cell_type": "code",
   "execution_count": null,
   "metadata": {},
   "outputs": [],
   "source": [
    "# To improve on the baseline logistic regression model - will tune the hyperparameters using\n",
    "# GridSearchCV\n",
    "\n",
    "from sklearn.model_selection import GridSearchCV\n",
    "\n",
    "#Specifying the parameters to tune - two different penalty terms, different C values (penalty tuning parameter),\n",
    "# and three different solvers - the default lbfgs, liblinear, and saga.\n",
    "parameters = {'logisticregression__penalty': ['l1', 'l2'], \n",
    "              'logisticregression__C': [.5, 1, 2],\n",
    "             'logisticregression__solver': ['liblinear', 'saga', 'lbfgs']}\n",
    "\n",
    "clf = make_pipeline(StandardScaler(), LogisticRegression())\n",
    "\n",
    "tuned_clf = GridSearchCV(clf, parameters) #search across all of the parameters after scaling\n",
    "\n",
    "\n",
    "tuned_clf_fit = tuned_clf.fit(X_train, y_train)\n"
   ]
  },
  {
   "cell_type": "code",
   "execution_count": null,
   "metadata": {},
   "outputs": [],
   "source": [
    "# Using cv_results_ - we can see the full results of the GridSearchCV including rank_test_score\n",
    "\n",
    "#What we can see is the best estimator (also accessible as .best_estimator_) has\n",
    "# the parameters: C = 0.5, penalty = 'l1', and solver = 'saga'\n",
    "\n",
    "pd.DataFrame(tuned_clf_fit.cv_results_)\n",
    "\n",
    "tuned_best_lr = tuned_clf_fit.best_estimator_\n",
    "\n",
    "# Will then used this best_estimator to run the test sets"
   ]
  },
  {
   "cell_type": "code",
   "execution_count": 57,
   "metadata": {},
   "outputs": [
    {
     "name": "stderr",
     "output_type": "stream",
     "text": [
      "/Users/santiagocassalett/anaconda3/envs/py37/lib/python3.7/site-packages/dask/array/core.py:1359: FutureWarning: The `numpy.may_share_memory` function is not implemented by Dask array. You may want to use the da.map_blocks function or something similar to silence this warning. Your code may stop working in a future release.\n",
      "  FutureWarning,\n"
     ]
    },
    {
     "data": {
      "text/plain": [
       "0.7957639939485628"
      ]
     },
     "execution_count": 57,
     "metadata": {},
     "output_type": "execute_result"
    }
   ],
   "source": [
    "# Results from the tuned linear regression found almost no change - essentially the same result\n",
    "# 79.57%\n",
    "tuned_best_lr.score(X_test, y_test)"
   ]
  },
  {
   "cell_type": "code",
   "execution_count": 62,
   "metadata": {},
   "outputs": [],
   "source": [
    "# pickling the model so it can be used again \n",
    "\n",
    "import dill\n",
    "\n",
    "with open('FullLRTuned.pkl', 'wb') as file:\n",
    "    dill.dump(tuned_clf_fit, file)"
   ]
  },
  {
   "cell_type": "code",
   "execution_count": null,
   "metadata": {},
   "outputs": [],
   "source": [
    "#####################################################\n",
    "########### SECOND MODEL - DECISION TREES ###########\n",
    "#####################################################"
   ]
  },
  {
   "cell_type": "code",
   "execution_count": 8,
   "metadata": {},
   "outputs": [],
   "source": [
    "# Hoping to improve on the classification score from the logistic model\n",
    "# we are now using a Decision Trees Classifier\n",
    "\n",
    "from sklearn.tree import DecisionTreeClassifier\n",
    "from sklearn.metrics import DistanceMetric\n",
    "\n",
    "#Here there is no need to use StandardScaler() as \n",
    "# decision trees do not have the same need for standardized inputs \n",
    "\n",
    "tree_model = DecisionTreeClassifier(criterion='gini', #using gini criterion\n",
    "                                   random_state = 1)\n",
    "\n",
    "tree_model_fit = tree_model.fit(X_train, y_train)"
   ]
  },
  {
   "cell_type": "code",
   "execution_count": 18,
   "metadata": {},
   "outputs": [
    {
     "data": {
      "text/plain": [
       "0.8144460472152834"
      ]
     },
     "execution_count": 18,
     "metadata": {},
     "output_type": "execute_result"
    }
   ],
   "source": [
    "#When we run the fitted model with the test set - we see an improved classification\n",
    "# score over what we found with the logistic regression: 81%\n",
    "\n",
    "#Not a huge improvement but is a slight one\n",
    "\n",
    "tree_model.score(X_test, y_test)"
   ]
  },
  {
   "cell_type": "code",
   "execution_count": 19,
   "metadata": {},
   "outputs": [
    {
     "name": "stdout",
     "output_type": "stream",
     "text": [
      "Decision train/test accuracies 0.979/0.814\n"
     ]
    }
   ],
   "source": [
    "# One way to examine the variance and fit of the model is to see the difference\n",
    "# in the test and train scores\n",
    "\n",
    "from sklearn.metrics import accuracy_score\n",
    "\n",
    "tree_y_train_pred = tree_model.predict(X_train)\n",
    "tree_y_test_pred = tree_model.predict(X_test)\n",
    "\n",
    "tree_train = accuracy_score(y_train, tree_y_train_pred)\n",
    "tree_test = accuracy_score(y_test, tree_y_test_pred)\n",
    "\n",
    "print('Decision train/test accuracies %.3f/%.3f' %(tree_train, tree_test))\n",
    "\n",
    "#What we see is a split between train accuracy and test accuracy suggesting fairly strong\n",
    "# overfitting: 97% vs 81%"
   ]
  },
  {
   "cell_type": "code",
   "execution_count": 23,
   "metadata": {},
   "outputs": [],
   "source": [
    "# We can attempt to adjust for the overfitting by tuning the depth of the trees\n",
    "# as well as the criterion used\n",
    "\n",
    "from sklearn.tree import DecisionTreeClassifier\n",
    "\n",
    "param = {'max_depth': [2, 3, 4, 5, 10, 15, 20, 30, 40],\n",
    "        'criterion': ['gini', 'entropy']}\n",
    "\n",
    "tree = DecisionTreeClassifier(random_state = 1)\n",
    "\n",
    "tree_search = GridSearchCV(tree, param)\n",
    "\n",
    "tree_search_fit = tree_search.fit(X_train, y_train)"
   ]
  },
  {
   "cell_type": "code",
   "execution_count": 24,
   "metadata": {},
   "outputs": [
    {
     "data": {
      "text/plain": [
       "0.8159413151321113"
      ]
     },
     "execution_count": 24,
     "metadata": {},
     "output_type": "execute_result"
    }
   ],
   "source": [
    "tree_search_fit.score(X_test, y_test)"
   ]
  },
  {
   "cell_type": "code",
   "execution_count": 25,
   "metadata": {},
   "outputs": [
    {
     "name": "stdout",
     "output_type": "stream",
     "text": [
      "Decision train/test accuracies 0.923/0.816\n"
     ]
    }
   ],
   "source": [
    "#Best estimator is gini criterion with a max depth of 40\n",
    "tree_model_best = tree_search_fit.best_estimator_\n",
    "\n",
    "# Examining the train/test accuracy similar to above\n",
    "tree_y_train_pred = tree_model_best.predict(X_train)\n",
    "tree_y_test_pred = tree_model_best.predict(X_test)\n",
    "\n",
    "tree_train = accuracy_score(y_train, tree_y_train_pred)\n",
    "tree_test = accuracy_score(y_test, tree_y_test_pred)\n",
    "\n",
    "print('Decision train/test accuracies %.3f/%.3f' %(tree_train, tree_test))\n",
    "\n",
    "# Tuning the parameters did not seem to make a huge difference to the \n",
    "# train/test accuracies - still appears overfit "
   ]
  },
  {
   "cell_type": "code",
   "execution_count": 27,
   "metadata": {},
   "outputs": [],
   "source": [
    "#One final approach to see if we can improve our fit is by using\n",
    "# bagged trees approach with bootstrap resampling\n",
    "\n",
    "from sklearn.ensemble import BaggingClassifier\n",
    "\n",
    "tree_bag = BaggingClassifier(base_estimator= tree_model_best, n_estimators=100, #100 trees\n",
    "                              max_samples=1.0, max_features = 1.0, bootstrap=True,\n",
    "                              bootstrap_features=False, n_jobs = -1, random_state=1)\n",
    "\n",
    "tree_bag_fit = tree_bag.fit(X_train, y_train)"
   ]
  },
  {
   "cell_type": "code",
   "execution_count": 28,
   "metadata": {},
   "outputs": [
    {
     "name": "stdout",
     "output_type": "stream",
     "text": [
      "Bagged decision tree train/test accuracies 0.942/0.856\n"
     ]
    }
   ],
   "source": [
    "tree_y_train_pred = tree_bag_fit.predict(X_train)\n",
    "tree_y_test_pred = tree_bag_fit.predict(X_test)\n",
    "\n",
    "tree_train = accuracy_score(y_train, tree_y_train_pred)\n",
    "tree_test = accuracy_score(y_test, tree_y_test_pred)\n",
    "\n",
    "print('Bagged decision tree train/test accuracies %.3f/%.3f' %(tree_train, tree_test))\n",
    "\n",
    "#Similar to above, we compared the train/test accuracies and find a marked improvement both\n",
    "# in classification score and in the fitting. Much less overfit"
   ]
  },
  {
   "cell_type": "code",
   "execution_count": 34,
   "metadata": {},
   "outputs": [],
   "source": [
    "#An additional way to visualize the accuracy and bias of the model is by plotting the validation\n",
    "# curve\n",
    "\n",
    "import matplotlib.pyplot as plt\n",
    "from sklearn.model_selection import validation_curve\n",
    "\n",
    "param_range = [2, 3, 4, 5, 10, 15, 20, 30, 40]\n",
    "\n",
    "pipe_tree = make_pipeline(DecisionTreeClassifier(random_state = 1))\n",
    "\n",
    "train_scores, test_scores = validation_curve(\n",
    "    estimator = pipe_tree,\n",
    "    X = X_train,\n",
    "    y = y_train,\n",
    "    param_name = 'decisiontreeclassifier__max_depth',\n",
    "    param_range = param_range,\n",
    "    cv = 5)"
   ]
  },
  {
   "cell_type": "code",
   "execution_count": 36,
   "metadata": {},
   "outputs": [
    {
     "data": {
      "image/png": "[encoded data removed]",
      "text/plain": [
       "<Figure size 432x288 with 1 Axes>"
      ]
     },
     "metadata": {
      "needs_background": "light"
     },
     "output_type": "display_data"
    }
   ],
   "source": [
    "import numpy as np\n",
    "\n",
    "train_mean = np.mean(train_scores, axis = 1)\n",
    "train_std = np.std(train_scores, axis = 1)\n",
    "test_mean = np.mean(test_scores, axis = 1)\n",
    "test_std = np.std(test_scores, axis = 1)\n",
    "\n",
    "plt.plot(param_range, train_mean, color = 'blue', marker = 'o',\n",
    "        markersize = 5, label = 'Training accuracy')\n",
    "\n",
    "plt.fill_between(param_range,\n",
    "                train_mean + train_std,\n",
    "                train_mean - train_std,\n",
    "                alpha = 0.15, color = 'blue')\n",
    "\n",
    "plt.plot(param_range, test_mean,\n",
    "        color = 'green', linestyle = '--',\n",
    "        marker = 's', markersize = 5,\n",
    "        label = 'Validation accuracy')\n",
    "\n",
    "plt.fill_between(param_range, test_mean + test_std,\n",
    "                test_mean - test_std,\n",
    "                alpha = 0.15, color = 'green')\n",
    "\n",
    "plt.grid()\n",
    "plt.ylabel('Accuracy')\n",
    "plt.xlabel('Parameter Max_Depth')\n",
    "plt.legend(loc = 'lower right')\n",
    "plt.ylim([0.65, 1.03])\n",
    "plt.show()\n",
    "\n",
    "#What we can see is that as the depth increases - the accuracy does not necessary\n",
    "# increase but the divide between training and test does increase."
   ]
  },
  {
   "cell_type": "code",
   "execution_count": 38,
   "metadata": {},
   "outputs": [],
   "source": [
    "# The current best model though is the bagged decision tree: 85% accuracy\n",
    "with open('BaggedDecisionTree.pkl', 'wb') as file:\n",
    "    dill.dump(tree_bag_fit, file)"
   ]
  },
  {
   "cell_type": "code",
   "execution_count": null,
   "metadata": {},
   "outputs": [],
   "source": [
    "#####################################################\n",
    "############ THIRD MODEL - RANDOM FOREST ############\n",
    "#####################################################"
   ]
  },
  {
   "cell_type": "code",
   "execution_count": 40,
   "metadata": {},
   "outputs": [
    {
     "name": "stdout",
     "output_type": "stream",
     "text": [
      "[########################################] | 100% Completed |  0.6s\n",
      "[########################################] | 100% Completed |  0.5s\n",
      "[########################################] | 100% Completed |  0.4s\n",
      "[########################################] | 100% Completed |  0.6s\n",
      "[########################################] | 100% Completed |  0.4s\n",
      "[########################################] | 100% Completed |  0.3s\n",
      "[########################################] | 100% Completed |  0.1s\n",
      "[########################################] | 100% Completed |  0.2s\n",
      "[########################################] | 100% Completed |  0.2s\n",
      "[########################################] | 100% Completed |  0.7s\n",
      "[########################################] | 100% Completed |  0.5s\n",
      "[########################################] | 100% Completed |  0.4s\n",
      "[########################################] | 100% Completed |  0.1s\n",
      "[########################################] | 100% Completed |  0.1s\n",
      "[########################################] | 100% Completed |  0.1s\n",
      "[########################################] | 100% Completed |  0.7s\n",
      "[########################################] | 100% Completed |  0.6s\n",
      "[########################################] | 100% Completed |  0.3s\n",
      "[########################################] | 100% Completed |  0.2s\n",
      "[########################################] | 100% Completed |  0.1s\n",
      "[########################################] | 100% Completed |  0.1s\n",
      "[########################################] | 100% Completed |  0.6s\n",
      "[########################################] | 100% Completed |  0.4s\n",
      "[########################################] | 100% Completed |  0.2s\n",
      "[########################################] | 100% Completed |  0.2s\n",
      "[########################################] | 100% Completed |  0.1s\n",
      "[########################################] | 100% Completed |  0.1s\n",
      "[########################################] | 100% Completed |  0.6s\n",
      "[########################################] | 100% Completed |  0.4s\n",
      "[########################################] | 100% Completed |  0.4s\n",
      "[########################################] | 100% Completed |  0.5s\n",
      "[########################################] | 100% Completed |  0.5s\n",
      "[########################################] | 100% Completed |  0.3s\n",
      "[########################################] | 100% Completed |  1.1s\n",
      "[########################################] | 100% Completed |  0.5s\n",
      "[########################################] | 100% Completed |  0.3s\n",
      "[########################################] | 100% Completed |  0.1s\n",
      "[########################################] | 100% Completed |  0.1s\n",
      "[########################################] | 100% Completed |  0.2s\n",
      "[########################################] | 100% Completed |  0.6s\n",
      "[########################################] | 100% Completed |  0.4s\n",
      "[########################################] | 100% Completed |  0.3s\n",
      "[########################################] | 100% Completed |  0.2s\n",
      "[########################################] | 100% Completed |  0.2s\n",
      "[########################################] | 100% Completed |  0.2s\n",
      "[########################################] | 100% Completed |  0.7s\n",
      "[########################################] | 100% Completed |  0.4s\n",
      "[########################################] | 100% Completed |  0.7s\n",
      "[########################################] | 100% Completed |  0.2s\n",
      "[########################################] | 100% Completed |  0.2s\n",
      "[########################################] | 100% Completed |  0.2s\n",
      "[########################################] | 100% Completed |  0.7s\n",
      "[########################################] | 100% Completed |  0.5s\n",
      "[########################################] | 100% Completed |  0.3s\n",
      "[########################################] | 100% Completed |  0.1s\n",
      "[########################################] | 100% Completed |  0.1s\n",
      "[########################################] | 100% Completed |  0.1s\n",
      "[########################################] | 100% Completed |  0.6s\n",
      "[########################################] | 100% Completed |  0.4s\n",
      "[########################################] | 100% Completed |  0.3s\n",
      "[########################################] | 100% Completed |  0.1s\n",
      "[########################################] | 100% Completed |  0.1s\n",
      "[########################################] | 100% Completed |  0.2s\n",
      "[########################################] | 100% Completed |  0.6s\n",
      "[########################################] | 100% Completed |  0.4s\n",
      "[########################################] | 100% Completed |  0.3s\n",
      "[########################################] | 100% Completed |  0.1s\n",
      "[########################################] | 100% Completed |  0.1s\n",
      "[########################################] | 100% Completed |  0.1s\n",
      "[########################################] | 100% Completed |  0.9s\n",
      "[########################################] | 100% Completed |  0.4s\n",
      "[########################################] | 100% Completed |  0.3s\n",
      "[########################################] | 100% Completed |  0.1s\n",
      "[########################################] | 100% Completed |  0.1s\n",
      "[########################################] | 100% Completed |  0.1s\n",
      "[########################################] | 100% Completed |  0.6s\n",
      "[########################################] | 100% Completed |  0.5s\n",
      "[########################################] | 100% Completed |  0.3s\n",
      "[########################################] | 100% Completed |  0.2s\n",
      "[########################################] | 100% Completed |  0.1s\n",
      "[########################################] | 100% Completed |  0.1s\n",
      "[########################################] | 100% Completed |  0.6s\n",
      "[########################################] | 100% Completed |  0.4s\n",
      "[########################################] | 100% Completed |  0.3s\n",
      "[########################################] | 100% Completed |  0.2s\n",
      "[########################################] | 100% Completed |  0.1s\n",
      "[########################################] | 100% Completed |  0.1s\n",
      "[########################################] | 100% Completed |  0.6s\n",
      "[########################################] | 100% Completed |  0.4s\n",
      "[########################################] | 100% Completed |  0.4s\n",
      "[########################################] | 100% Completed |  0.1s\n",
      "[########################################] | 100% Completed |  0.1s\n",
      "[########################################] | 100% Completed |  0.1s\n",
      "[########################################] | 100% Completed |  0.6s\n",
      "[########################################] | 100% Completed |  0.4s\n",
      "[########################################] | 100% Completed |  0.3s\n",
      "[########################################] | 100% Completed |  0.1s\n",
      "[########################################] | 100% Completed |  0.1s\n",
      "[########################################] | 100% Completed |  0.1s\n",
      "[########################################] | 100% Completed |  0.6s\n",
      "[########################################] | 100% Completed |  0.5s\n",
      "[########################################] | 100% Completed |  0.3s\n",
      "[########################################] | 100% Completed |  0.2s\n",
      "[########################################] | 100% Completed |  0.2s\n",
      "[########################################] | 100% Completed |  0.1s\n",
      "[########################################] | 100% Completed |  0.8s\n",
      "[########################################] | 100% Completed |  0.5s\n",
      "[########################################] | 100% Completed |  0.6s\n",
      "[########################################] | 100% Completed |  0.2s\n",
      "[########################################] | 100% Completed |  0.2s\n",
      "[########################################] | 100% Completed |  0.2s\n",
      "[########################################] | 100% Completed |  1.0s\n",
      "[########################################] | 100% Completed |  0.7s\n",
      "[########################################] | 100% Completed |  0.3s\n",
      "[########################################] | 100% Completed |  0.2s\n",
      "[########################################] | 100% Completed |  0.2s\n",
      "[########################################] | 100% Completed |  0.2s\n",
      "[########################################] | 100% Completed |  0.9s\n",
      "[########################################] | 100% Completed |  0.5s\n",
      "[########################################] | 100% Completed |  0.3s\n"
     ]
    },
    {
     "name": "stdout",
     "output_type": "stream",
     "text": [
      "[########################################] | 100% Completed |  0.1s\n",
      "[########################################] | 100% Completed |  0.1s\n",
      "[########################################] | 100% Completed |  0.1s\n",
      "[########################################] | 100% Completed |  0.6s\n",
      "[########################################] | 100% Completed |  0.4s\n",
      "[########################################] | 100% Completed |  0.3s\n",
      "[########################################] | 100% Completed |  0.1s\n",
      "[########################################] | 100% Completed |  0.1s\n",
      "[########################################] | 100% Completed |  0.1s\n",
      "[########################################] | 100% Completed |  0.6s\n",
      "[########################################] | 100% Completed |  0.4s\n",
      "[########################################] | 100% Completed |  0.3s\n",
      "[########################################] | 100% Completed |  0.1s\n",
      "[########################################] | 100% Completed |  0.2s\n",
      "[########################################] | 100% Completed |  0.2s\n",
      "[########################################] | 100% Completed |  0.6s\n",
      "[########################################] | 100% Completed |  0.4s\n",
      "[########################################] | 100% Completed |  0.3s\n",
      "[########################################] | 100% Completed |  0.2s\n",
      "[########################################] | 100% Completed |  0.1s\n",
      "[########################################] | 100% Completed |  0.2s\n",
      "[########################################] | 100% Completed |  0.6s\n",
      "[########################################] | 100% Completed |  0.4s\n",
      "[########################################] | 100% Completed |  0.3s\n",
      "[########################################] | 100% Completed |  0.1s\n",
      "[########################################] | 100% Completed |  0.2s\n",
      "[########################################] | 100% Completed |  0.2s\n",
      "[########################################] | 100% Completed |  0.6s\n",
      "[########################################] | 100% Completed |  0.4s\n",
      "[########################################] | 100% Completed |  0.3s\n",
      "[########################################] | 100% Completed |  0.1s\n",
      "[########################################] | 100% Completed |  0.1s\n",
      "[########################################] | 100% Completed |  0.1s\n",
      "[########################################] | 100% Completed |  0.6s\n",
      "[########################################] | 100% Completed |  0.4s\n",
      "[########################################] | 100% Completed |  0.3s\n",
      "[########################################] | 100% Completed |  0.1s\n",
      "[########################################] | 100% Completed |  0.1s\n",
      "[########################################] | 100% Completed |  0.1s\n",
      "[########################################] | 100% Completed |  0.7s\n",
      "[########################################] | 100% Completed |  0.4s\n",
      "[########################################] | 100% Completed |  0.3s\n",
      "[########################################] | 100% Completed |  0.2s\n",
      "[########################################] | 100% Completed |  0.1s\n",
      "[########################################] | 100% Completed |  0.1s\n",
      "[########################################] | 100% Completed |  0.7s\n",
      "[########################################] | 100% Completed |  0.5s\n",
      "[########################################] | 100% Completed |  0.3s\n",
      "[########################################] | 100% Completed |  0.2s\n",
      "[########################################] | 100% Completed |  0.1s\n",
      "[########################################] | 100% Completed |  0.1s\n",
      "[########################################] | 100% Completed |  0.6s\n",
      "[########################################] | 100% Completed |  0.4s\n",
      "[########################################] | 100% Completed |  0.3s\n",
      "[########################################] | 100% Completed |  0.1s\n",
      "[########################################] | 100% Completed |  0.1s\n",
      "[########################################] | 100% Completed |  0.1s\n",
      "[########################################] | 100% Completed |  0.6s\n",
      "[########################################] | 100% Completed |  0.4s\n",
      "[########################################] | 100% Completed |  0.3s\n",
      "[########################################] | 100% Completed |  0.2s\n",
      "[########################################] | 100% Completed |  0.1s\n",
      "[########################################] | 100% Completed |  0.1s\n",
      "[########################################] | 100% Completed |  0.7s\n",
      "[########################################] | 100% Completed |  0.4s\n",
      "[########################################] | 100% Completed |  0.3s\n",
      "[########################################] | 100% Completed |  0.2s\n",
      "[########################################] | 100% Completed |  0.1s\n",
      "[########################################] | 100% Completed |  0.1s\n",
      "[########################################] | 100% Completed |  1.0s\n",
      "[########################################] | 100% Completed |  0.4s\n",
      "[########################################] | 100% Completed |  0.3s\n",
      "[########################################] | 100% Completed |  0.2s\n",
      "[########################################] | 100% Completed |  0.2s\n",
      "[########################################] | 100% Completed |  0.1s\n",
      "[########################################] | 100% Completed |  0.6s\n",
      "[########################################] | 100% Completed |  0.4s\n",
      "[########################################] | 100% Completed |  0.3s\n",
      "[########################################] | 100% Completed |  0.1s\n",
      "[########################################] | 100% Completed |  0.1s\n",
      "[########################################] | 100% Completed |  0.2s\n",
      "[########################################] | 100% Completed |  0.6s\n",
      "[########################################] | 100% Completed |  0.4s\n",
      "[########################################] | 100% Completed |  0.3s\n",
      "[########################################] | 100% Completed |  0.2s\n",
      "[########################################] | 100% Completed |  0.1s\n",
      "[########################################] | 100% Completed |  0.1s\n",
      "[########################################] | 100% Completed |  0.6s\n",
      "[########################################] | 100% Completed |  0.4s\n",
      "[########################################] | 100% Completed |  0.3s\n",
      "[########################################] | 100% Completed |  0.1s\n",
      "[########################################] | 100% Completed |  0.1s\n",
      "[########################################] | 100% Completed |  0.1s\n",
      "[########################################] | 100% Completed |  0.7s\n",
      "[########################################] | 100% Completed |  0.4s\n",
      "[########################################] | 100% Completed |  0.3s\n",
      "[########################################] | 100% Completed |  0.1s\n",
      "[########################################] | 100% Completed |  0.1s\n",
      "[########################################] | 100% Completed |  0.1s\n",
      "[########################################] | 100% Completed |  0.7s\n",
      "[########################################] | 100% Completed |  0.4s\n",
      "[########################################] | 100% Completed |  0.3s\n",
      "[########################################] | 100% Completed |  0.1s\n",
      "[########################################] | 100% Completed |  0.2s\n",
      "[########################################] | 100% Completed |  0.1s\n",
      "[########################################] | 100% Completed |  0.7s\n",
      "[########################################] | 100% Completed |  0.8s\n",
      "[########################################] | 100% Completed |  0.2s\n",
      "[########################################] | 100% Completed |  0.2s\n",
      "[########################################] | 100% Completed |  0.2s\n",
      "[########################################] | 100% Completed |  0.2s\n",
      "[########################################] | 100% Completed |  0.6s\n",
      "[########################################] | 100% Completed |  0.5s\n",
      "[########################################] | 100% Completed |  0.3s\n",
      "[########################################] | 100% Completed |  0.2s\n",
      "[########################################] | 100% Completed |  0.1s\n",
      "[########################################] | 100% Completed |  0.1s\n",
      "[########################################] | 100% Completed |  0.6s\n",
      "[########################################] | 100% Completed |  0.4s\n",
      "[########################################] | 100% Completed |  0.7s\n"
     ]
    },
    {
     "name": "stdout",
     "output_type": "stream",
     "text": [
      "[########################################] | 100% Completed |  0.1s\n",
      "[########################################] | 100% Completed |  0.1s\n",
      "[########################################] | 100% Completed |  0.1s\n",
      "[########################################] | 100% Completed |  0.9s\n",
      "[########################################] | 100% Completed |  0.5s\n"
     ]
    }
   ],
   "source": [
    "from sklearn.ensemble import RandomForestClassifier\n",
    "from dask.diagnostics import ProgressBar\n",
    "\n",
    "# To try and further improve on the classification score of the the bagged\n",
    "# decision trees - we'll use a Random Forest classifier\n",
    "\n",
    "#setting up the parameters to be searched\n",
    "param_grid = {'criterion': ['gini', 'entropy'],\n",
    "             'max_depth': [20, 30, 40, 50]}\n",
    "\n",
    "forest = RandomForestClassifier(n_estimators=25,\n",
    "                               random_state=1,\n",
    "                               n_jobs = -1)\n",
    "\n",
    "forest_search = GridSearchCV(forest, param_grid)\n",
    "\n",
    "with ProgressBar():\n",
    "    forest_search.fit(X_train, y_train)"
   ]
  },
  {
   "cell_type": "code",
   "execution_count": 43,
   "metadata": {},
   "outputs": [
    {
     "data": {
      "text/plain": [
       "RandomForestClassifier(max_depth=50, n_estimators=25, n_jobs=-1, random_state=1)"
      ]
     },
     "execution_count": 43,
     "metadata": {},
     "output_type": "execute_result"
    }
   ],
   "source": [
    "#The best estimator found has a max depth of 50 and gini criterion\n",
    "forest_best = forest_search.best_estimator_"
   ]
  },
  {
   "cell_type": "code",
   "execution_count": 62,
   "metadata": {},
   "outputs": [
    {
     "name": "stdout",
     "output_type": "stream",
     "text": [
      "Random Forest train/test accuracies 0.958/0.864\n"
     ]
    }
   ],
   "source": [
    "forest_y_train_pred = forest_best.predict(X_train)\n",
    "forest_y_test_pred = forest_best.predict(X_test)\n",
    "\n",
    "forest_train = accuracy_score(y_train, forest_y_train_pred)\n",
    "forest_test = accuracy_score(y_test, forest_y_test_pred)\n",
    "\n",
    "print('Random Forest train/test accuracies %.3f/%.3f' %(forest_train, forest_test))\n",
    "\n",
    "# What we find when we compare the train and test accuracies is similar to what was \n",
    "# found with the bagged forest - better convergence between the test and training sets\n",
    "\n",
    "# We also see an improved classification score but not a significant improvement: 86.4%"
   ]
  },
  {
   "cell_type": "code",
   "execution_count": null,
   "metadata": {},
   "outputs": [],
   "source": [
    "# Pickling the the fit random forest model\n",
    "with open(\"Random_Forest_fit\", \"wb\") as file:\n",
    "    dill.dump(forest_best, file)"
   ]
  },
  {
   "cell_type": "code",
   "execution_count": 48,
   "metadata": {},
   "outputs": [
    {
     "name": "stdout",
     "output_type": "stream",
     "text": [
      "5-fold cross validation\n"
     ]
    },
    {
     "name": "stderr",
     "output_type": "stream",
     "text": [
      "/Users/santiagocassalett/anaconda3/envs/py37/lib/python3.7/site-packages/dask/array/core.py:1359: FutureWarning: The `numpy.may_share_memory` function is not implemented by Dask array. You may want to use the da.map_blocks function or something similar to silence this warning. Your code may stop working in a future release.\n",
      "  FutureWarning,\n",
      "/Users/santiagocassalett/anaconda3/envs/py37/lib/python3.7/site-packages/dask/array/core.py:1359: FutureWarning: The `numpy.may_share_memory` function is not implemented by Dask array. You may want to use the da.map_blocks function or something similar to silence this warning. Your code may stop working in a future release.\n",
      "  FutureWarning,\n",
      "/Users/santiagocassalett/anaconda3/envs/py37/lib/python3.7/site-packages/dask/array/core.py:1359: FutureWarning: The `numpy.may_share_memory` function is not implemented by Dask array. You may want to use the da.map_blocks function or something similar to silence this warning. Your code may stop working in a future release.\n",
      "  FutureWarning,\n",
      "/Users/santiagocassalett/anaconda3/envs/py37/lib/python3.7/site-packages/dask/array/core.py:1359: FutureWarning: The `numpy.may_share_memory` function is not implemented by Dask array. You may want to use the da.map_blocks function or something similar to silence this warning. Your code may stop working in a future release.\n",
      "  FutureWarning,\n",
      "/Users/santiagocassalett/anaconda3/envs/py37/lib/python3.7/site-packages/dask/array/core.py:1359: FutureWarning: The `numpy.may_share_memory` function is not implemented by Dask array. You may want to use the da.map_blocks function or something similar to silence this warning. Your code may stop working in a future release.\n",
      "  FutureWarning,\n",
      "/Users/santiagocassalett/anaconda3/envs/py37/lib/python3.7/site-packages/dask/array/core.py:1359: FutureWarning: The `numpy.may_share_memory` function is not implemented by Dask array. You may want to use the da.map_blocks function or something similar to silence this warning. Your code may stop working in a future release.\n",
      "  FutureWarning,\n",
      "/Users/santiagocassalett/anaconda3/envs/py37/lib/python3.7/site-packages/dask/array/core.py:1359: FutureWarning: The `numpy.may_share_memory` function is not implemented by Dask array. You may want to use the da.map_blocks function or something similar to silence this warning. Your code may stop working in a future release.\n",
      "  FutureWarning,\n",
      "/Users/santiagocassalett/anaconda3/envs/py37/lib/python3.7/site-packages/dask/array/core.py:1359: FutureWarning: The `numpy.may_share_memory` function is not implemented by Dask array. You may want to use the da.map_blocks function or something similar to silence this warning. Your code may stop working in a future release.\n",
      "  FutureWarning,\n",
      "/Users/santiagocassalett/anaconda3/envs/py37/lib/python3.7/site-packages/dask/array/core.py:1359: FutureWarning: The `numpy.may_share_memory` function is not implemented by Dask array. You may want to use the da.map_blocks function or something similar to silence this warning. Your code may stop working in a future release.\n",
      "  FutureWarning,\n",
      "/Users/santiagocassalett/anaconda3/envs/py37/lib/python3.7/site-packages/dask/array/core.py:1359: FutureWarning: The `numpy.may_share_memory` function is not implemented by Dask array. You may want to use the da.map_blocks function or something similar to silence this warning. Your code may stop working in a future release.\n",
      "  FutureWarning,\n"
     ]
    },
    {
     "name": "stdout",
     "output_type": "stream",
     "text": [
      "ROC AUC: 0.77 (+/- 0.00) [Logistic Regression]\n",
      "ROC AUC: 0.87 (+/- 0.01) [BaggedTrees]\n",
      "ROC AUC: 0.88 (+/- 0.01) [Random Forest]\n"
     ]
    }
   ],
   "source": [
    "# Another approach for finding the best classification model for the sentiment analysis\n",
    "# is to instead run all three of the models using cross_val_score\n",
    "\n",
    "#Cross_val_score trains the models with a k-fold (here cv = 5) cross validation and\n",
    "# provides a scoring (here scoring = 'roc_auc')\n",
    "\n",
    "from sklearn.model_selection import cross_val_score\n",
    "from sklearn.pipeline import Pipeline\n",
    "from sklearn.metrics import roc_auc_score\n",
    "\n",
    "clf1 = LogisticRegression(solver = 'saga', penalty = 'l1', C = 0.5)\n",
    "\n",
    "clf2 = BaggingClassifier(base_estimator= tree_model_best, n_estimators=100, #100 trees\n",
    "                              max_samples=1.0, max_features = 1.0, bootstrap=True,\n",
    "                              bootstrap_features=False, n_jobs = -1, random_state=1)\n",
    "\n",
    "clf3 = RandomForestClassifier(criterion= 'gini',\n",
    "                              max_depth=50,\n",
    "                               n_estimators=25,\n",
    "                               random_state=1,\n",
    "                               n_jobs = -1)\n",
    "\n",
    "pipe1 = Pipeline([['sc', StandardScaler()], \n",
    "                   ['lr', clf1]])\n",
    "\n",
    "clf_labels = ['Logistic Regression', 'BaggedTrees','Random Forest']\n",
    "print('5-fold cross validation')\n",
    "for clf, label in zip([pipe1, clf2, clf3], clf_labels):\n",
    "    scores = cross_val_score(estimator=clf,\n",
    "                            X = X_train,\n",
    "                            y = y_train,\n",
    "                            cv = 5,\n",
    "                            scoring = 'roc_auc')\n",
    "    print(\"ROC AUC: %0.2f (+/- %0.2f) [%s]\" % (scores.mean(), scores.std(), label))"
   ]
  },
  {
   "cell_type": "code",
   "execution_count": null,
   "metadata": {},
   "outputs": [],
   "source": [
    "########################################\n",
    "############## DISCUSSION ##############\n",
    "########################################"
   ]
  },
  {
   "cell_type": "code",
   "execution_count": null,
   "metadata": {},
   "outputs": [],
   "source": [
    "#The result of the above comparison between classification models shows that Random Forest has the best \n",
    "# ROC/AUC score which corresponds with the better classification score for Random Forest as well.\n",
    "\n",
    "# Overall, the use of the top-100 tokens created via binary vectorization was able to \n",
    "# correctly classify the sentiments of the amazon fine food reviews for 87-88% of the reviews.\n",
    "\n",
    "# This highlights the utility of NLP for sentiment analysis as well as the strength of random forests as a \n",
    "# classifier\n",
    "\n",
    "# Using more than the top-100 tokens (say the top-1000) could potentially improve on the current classification\n",
    "# score"
   ]
  },
  {
   "cell_type": "code",
   "execution_count": null,
   "metadata": {},
   "outputs": [],
   "source": []
  },
  {
   "cell_type": "code",
   "execution_count": null,
   "metadata": {},
   "outputs": [],
   "source": []
  },
  {
   "cell_type": "code",
   "execution_count": null,
   "metadata": {},
   "outputs": [],
   "source": []
  },
  {
   "cell_type": "code",
   "execution_count": null,
   "metadata": {},
   "outputs": [],
   "source": []
  },
  {
   "cell_type": "code",
   "execution_count": null,
   "metadata": {},
   "outputs": [],
   "source": []
  },
  {
   "cell_type": "code",
   "execution_count": 61,
   "metadata": {},
   "outputs": [],
   "source": []
  },
  {
   "cell_type": "code",
   "execution_count": null,
   "metadata": {},
   "outputs": [],
   "source": []
  },
  {
   "cell_type": "code",
   "execution_count": null,
   "metadata": {},
   "outputs": [],
   "source": []
  },
  {
   "cell_type": "code",
   "execution_count": null,
   "metadata": {},
   "outputs": [],
   "source": []
  },
  {
   "cell_type": "code",
   "execution_count": null,
   "metadata": {},
   "outputs": [],
   "source": []
  },
  {
   "cell_type": "code",
   "execution_count": null,
   "metadata": {},
   "outputs": [],
   "source": []
  },
  {
   "cell_type": "code",
   "execution_count": null,
   "metadata": {},
   "outputs": [],
   "source": []
  },
  {
   "cell_type": "code",
   "execution_count": null,
   "metadata": {},
   "outputs": [],
   "source": []
  },
  {
   "cell_type": "code",
   "execution_count": 46,
   "metadata": {},
   "outputs": [],
   "source": []
  },
  {
   "cell_type": "code",
   "execution_count": null,
   "metadata": {},
   "outputs": [],
   "source": []
  },
  {
   "cell_type": "code",
   "execution_count": null,
   "metadata": {},
   "outputs": [],
   "source": []
  },
  {
   "cell_type": "code",
   "execution_count": null,
   "metadata": {},
   "outputs": [],
   "source": []
  }
 ],
 "metadata": {
  "kernelspec": {
   "display_name": "Python 3",
   "language": "python",
   "name": "python3"
  },
  "language_info": {
   "codemirror_mode": {
    "name": "ipython",
    "version": 3
   },
   "file_extension": ".py",
   "mimetype": "text/x-python",
   "name": "python",
   "nbconvert_exporter": "python",
   "pygments_lexer": "ipython3",
   "version": "3.7.5"
  }
 },
 "nbformat": 4,
 "nbformat_minor": 4
}
